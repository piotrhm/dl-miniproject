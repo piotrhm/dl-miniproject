{
 "cells": [
  {
   "cell_type": "markdown",
   "id": "cooperative-velvet",
   "metadata": {},
   "source": [
    "## HowTo\n",
    "\n",
    "- Open instagram page (e.g. https://www.instagram.com/explore/tags/cats/),\n",
    "- Save it to project dir,\n",
    "- Refresh notebook\n",
    "- Select saved HTML from select list\n",
    "- Run all below cells\n",
    "- Select images which should be preserved in dataset\n",
    "- Copy JSON urls list"
   ]
  },
  {
   "cell_type": "code",
   "execution_count": 1,
   "id": "passing-regression",
   "metadata": {},
   "outputs": [],
   "source": [
    "import glob\n",
    "from ipywidgets import interact, interactive, fixed, interact_manual\n",
    "import ipywidgets as widgets\n",
    "import json, re\n",
    "import os \n",
    "import urllib.request\n",
    "from pprint import pprint"
   ]
  },
  {
   "cell_type": "code",
   "execution_count": 7,
   "id": "hidden-repository",
   "metadata": {},
   "outputs": [
    {
     "data": {
      "application/vnd.jupyter.widget-view+json": {
       "model_id": "0337bc2404ba480b93ba6992df6fe2fa",
       "version_major": 2,
       "version_minor": 0
      },
      "text/plain": [
       "Dropdown(description='Source:', options=('Hasztag #catlover na Instagramie • Zdjęcia i filmy.html', 'index.htm…"
      ]
     },
     "metadata": {},
     "output_type": "display_data"
    }
   ],
   "source": [
    "source = widgets.Dropdown(\n",
    "    options=list(glob.glob('*.html')),\n",
    "    description='Source:',\n",
    "    disabled=False,\n",
    ")\n",
    "display(source)"
   ]
  },
  {
   "cell_type": "code",
   "execution_count": 17,
   "id": "dimensional-referral",
   "metadata": {
    "scrolled": true
   },
   "outputs": [],
   "source": [
    "def extract_posts(text):\n",
    "    d = re.findall('<script type=\"text/javascript\">window._sharedData = (.*)</script>', text)\n",
    "    assert len(d) == 1\n",
    "\n",
    "    d = json.loads(d[0].strip(';'))['entry_data']['TagPage'][0]['graphql']['hashtag']\n",
    "    results = {}\n",
    "\n",
    "    for n in ['edge_hashtag_to_media', 'edge_hashtag_to_top_posts', 'edge_hashtag_to_content_advisory', 'edge_hashtag_to_related_tags', 'edge_hashtag_to_null_state']:\n",
    "        for node in d[n]['edges']:\n",
    "            thumbnails = node['node']['thumbnail_resources']\n",
    "            for img in thumbnails:\n",
    "                if img['config_height'] == img['config_width'] == 640:\n",
    "                    results[node['node']['shortcode']] = img['src']\n",
    "    return results\n",
    "\n",
    "with open(source.value) as file:\n",
    "    POSTS = extract_posts(file.read())"
   ]
  },
  {
   "cell_type": "code",
   "execution_count": 18,
   "id": "fabulous-authority",
   "metadata": {},
   "outputs": [],
   "source": [
    "def download_images(posts):\n",
    "    results = {}\n",
    "    for k, url in posts.items():\n",
    "        path = os.path.join('.cache', f\"{k}.jpg\")\n",
    "        if not os.path.exists(path):\n",
    "            with urllib.request.urlopen(url) as response, open(path, 'wb') as output:\n",
    "                output.write(response.read())\n",
    "        with open(path, 'rb') as file:\n",
    "            results[(k,url)] = file.read()\n",
    "    return results\n",
    "\n",
    "IMAGES = download_images(POSTS)"
   ]
  },
  {
   "cell_type": "code",
   "execution_count": 19,
   "id": "continent-consent",
   "metadata": {
    "scrolled": false
   },
   "outputs": [
    {
     "data": {
      "application/vnd.jupyter.widget-view+json": {
       "model_id": "7d63da9a88ce47ce8cff9fe861013193",
       "version_major": 2,
       "version_minor": 0
      },
      "text/plain": [
       "VBox(children=(HBox(children=(VBox(children=(Image(value=b'\\xff\\xd8\\xff\\xe0\\x00\\x10JFIF\\x00\\x01\\x01\\x00\\x00\\x0…"
      ]
     },
     "metadata": {},
     "output_type": "display_data"
    }
   ],
   "source": [
    "COLS = 4\n",
    "\n",
    "IMG_WIDTH = 200\n",
    "IMG_HEIGHT = 200\n",
    "\n",
    "rows = []\n",
    "ITEMS = list(IMAGES.items())\n",
    "CHECKBOXES = {}\n",
    "\n",
    "\n",
    "def on_value_change(change):\n",
    "    output.clear_output()\n",
    "    with output:\n",
    "        print(json.dumps({k1: k2 for (k1,k2), c in CHECKBOXES.items() if c.value}))\n",
    "    \n",
    "\n",
    "for i in range(0, len(ITEMS), COLS):\n",
    "    row = ITEMS[i:i+COLS]\n",
    "    cols = []\n",
    "    for k, img in row:\n",
    "        image = widgets.Image(\n",
    "            value=img, width=IMG_WIDTH, height=IMG_HEIGHT\n",
    "        )\n",
    "\n",
    "        button = widgets.Checkbox(description='Include', indent=False, value=True)\n",
    "        button.layout.width='auto'\n",
    "        button.observe(on_value_change, names='value')\n",
    "        CHECKBOXES[k] = button\n",
    "        \n",
    "        box = widgets.VBox([image, button])\n",
    "        cols.append(box)\n",
    "\n",
    "    # Create a horizontal layout box, grouping all the columns together\n",
    "    rows.append(widgets.HBox(cols))\n",
    "    \n",
    "output = widgets.Output()\n",
    "\n",
    "rows.append(output)\n",
    "\n",
    "# Create a vertical layout box, grouping all the rows together\n",
    "widgets.VBox(rows)"
   ]
  }
 ],
 "metadata": {
  "kernelspec": {
   "display_name": "Python 3",
   "language": "python",
   "name": "python3"
  },
  "language_info": {
   "codemirror_mode": {
    "name": "ipython",
    "version": 3
   },
   "file_extension": ".py",
   "mimetype": "text/x-python",
   "name": "python",
   "nbconvert_exporter": "python",
   "pygments_lexer": "ipython3",
   "version": "3.9.2"
  }
 },
 "nbformat": 4,
 "nbformat_minor": 5
}
