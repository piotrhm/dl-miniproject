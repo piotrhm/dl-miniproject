{
 "cells": [
  {
   "cell_type": "code",
   "execution_count": 30,
   "id": "electoral-rendering",
   "metadata": {},
   "outputs": [
    {
     "data": {
      "application/vnd.jupyter.widget-view+json": {
       "model_id": "351b537e37804f9b9e902ad4e88c3085",
       "version_major": 2,
       "version_minor": 0
      },
      "text/plain": [
       "HBox(children=(Dropdown(description='Dataset:', options=(None, 'data/cats/urls.json'), value=None), Button(des…"
      ]
     },
     "metadata": {},
     "output_type": "display_data"
    },
    {
     "name": "stdout",
     "output_type": "stream",
     "text": [
      "Downloaded 0/212 new images!\n"
     ]
    }
   ],
   "source": [
    "import ipywidgets as widgets\n",
    "import glob, json, os\n",
    "import urllib.request\n",
    "\n",
    "dataset = widgets.Dropdown(\n",
    "    options=[None] + list(glob.glob('data/*/urls.json')),\n",
    "    description='Dataset:',\n",
    ")\n",
    "\n",
    "def download_dataset(b):\n",
    "    dataset_path = dataset.value\n",
    "    if not dataset_path:\n",
    "        return\n",
    "\n",
    "    count = count_total = 0\n",
    "    with open(dataset_path, 'r') as file:\n",
    "        for url in json.load(file):\n",
    "            count_total += 1\n",
    "            dirname = os.path.dirname(dataset_path)\n",
    "            filename = url.split('?')[0].split('/')[-1]\n",
    "            path = os.path.join(dirname, filename)\n",
    "\n",
    "            if os.path.exists(path):\n",
    "                continue\n",
    "\n",
    "            with urllib.request.urlopen(url) as response, open(path, 'wb') as output:\n",
    "                output.write(response.read())\n",
    "                count += 1\n",
    "                \n",
    "\n",
    "    print(f'Downloaded {count}/{count_total} new images!')\n",
    "\n",
    "                \n",
    "button = widgets.Button(\n",
    "    description='Download Dataset'\n",
    ")\n",
    "button.on_click(download_dataset)\n",
    "\n",
    "widgets.HBox([dataset, button])"
   ]
  }
 ],
 "metadata": {
  "kernelspec": {
   "display_name": "Python 3",
   "language": "python",
   "name": "python3"
  },
  "language_info": {
   "codemirror_mode": {
    "name": "ipython",
    "version": 3
   },
   "file_extension": ".py",
   "mimetype": "text/x-python",
   "name": "python",
   "nbconvert_exporter": "python",
   "pygments_lexer": "ipython3",
   "version": "3.9.2"
  }
 },
 "nbformat": 4,
 "nbformat_minor": 5
}
